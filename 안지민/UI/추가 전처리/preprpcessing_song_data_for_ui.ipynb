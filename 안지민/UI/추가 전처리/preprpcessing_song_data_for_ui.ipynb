{
 "cells": [
  {
   "cell_type": "markdown",
   "metadata": {},
   "source": [
    "# 1. Import"
   ]
  },
  {
   "cell_type": "code",
   "execution_count": 1,
   "metadata": {},
   "outputs": [],
   "source": [
    "import numpy as np\n",
    "import pandas as pd\n",
    "import matplotlib.pyplot as plt"
   ]
  },
  {
   "cell_type": "markdown",
   "metadata": {},
   "source": [
    "# 2. Load Data"
   ]
  },
  {
   "cell_type": "markdown",
   "metadata": {},
   "source": [
    "## 공통 전처리 과정을 끝낸 파일 로드"
   ]
  },
  {
   "cell_type": "code",
   "execution_count": 80,
   "metadata": {},
   "outputs": [],
   "source": [
    "# Read the data set from training file => pre_1992_2020.tsv\n",
    "df = pd.read_csv('1990_2020.tsv', sep ='\\t', encoding = 'utf-8')"
   ]
  },
  {
   "cell_type": "code",
   "execution_count": 81,
   "metadata": {},
   "outputs": [
    {
     "data": {
      "text/html": [
       "<div>\n",
       "<style scoped>\n",
       "    .dataframe tbody tr th:only-of-type {\n",
       "        vertical-align: middle;\n",
       "    }\n",
       "\n",
       "    .dataframe tbody tr th {\n",
       "        vertical-align: top;\n",
       "    }\n",
       "\n",
       "    .dataframe thead th {\n",
       "        text-align: right;\n",
       "    }\n",
       "</style>\n",
       "<table border=\"1\" class=\"dataframe\">\n",
       "  <thead>\n",
       "    <tr style=\"text-align: right;\">\n",
       "      <th></th>\n",
       "      <th>Unnamed: 0</th>\n",
       "      <th>년도</th>\n",
       "      <th>가수</th>\n",
       "      <th>제목</th>\n",
       "      <th>성별</th>\n",
       "      <th>장르</th>\n",
       "      <th>가사</th>\n",
       "    </tr>\n",
       "  </thead>\n",
       "  <tbody>\n",
       "    <tr>\n",
       "      <th>0</th>\n",
       "      <td>0</td>\n",
       "      <td>19920000</td>\n",
       "      <td>잼</td>\n",
       "      <td>난 멈추지 않는다</td>\n",
       "      <td>mixed</td>\n",
       "      <td>댄스</td>\n",
       "      <td>['이제', '모든걸', '다시', '시작해', '내겐', '아직도', '시간이',...</td>\n",
       "    </tr>\n",
       "    <tr>\n",
       "      <th>1</th>\n",
       "      <td>1</td>\n",
       "      <td>19920000</td>\n",
       "      <td>잼</td>\n",
       "      <td>우리 모두 사랑하자</td>\n",
       "      <td>mixed</td>\n",
       "      <td>댄스</td>\n",
       "      <td>['워', '우리', '모두', '사랑하자', '우리의', '젊은날을', '위하여'...</td>\n",
       "    </tr>\n",
       "  </tbody>\n",
       "</table>\n",
       "</div>"
      ],
      "text/plain": [
       "   Unnamed: 0        년도 가수          제목     성별  장르  \\\n",
       "0           0  19920000  잼   난 멈추지 않는다  mixed  댄스   \n",
       "1           1  19920000  잼  우리 모두 사랑하자  mixed  댄스   \n",
       "\n",
       "                                                  가사  \n",
       "0  ['이제', '모든걸', '다시', '시작해', '내겐', '아직도', '시간이',...  \n",
       "1  ['워', '우리', '모두', '사랑하자', '우리의', '젊은날을', '위하여'...  "
      ]
     },
     "execution_count": 81,
     "metadata": {},
     "output_type": "execute_result"
    }
   ],
   "source": [
    "# Check the loaded data \n",
    "df.head(2)"
   ]
  },
  {
   "cell_type": "code",
   "execution_count": 82,
   "metadata": {},
   "outputs": [
    {
     "data": {
      "text/plain": [
       "Index(['Unnamed: 0', '년도', '가수', '제목', '성별', '장르', '가사'], dtype='object')"
      ]
     },
     "execution_count": 82,
     "metadata": {},
     "output_type": "execute_result"
    }
   ],
   "source": [
    "df.columns"
   ]
  },
  {
   "cell_type": "code",
   "execution_count": 83,
   "metadata": {},
   "outputs": [],
   "source": [
    "df = df.drop(['Unnamed: 0','성별','가사'],axis=1)"
   ]
  },
  {
   "cell_type": "code",
   "execution_count": 84,
   "metadata": {},
   "outputs": [
    {
     "data": {
      "text/html": [
       "<div>\n",
       "<style scoped>\n",
       "    .dataframe tbody tr th:only-of-type {\n",
       "        vertical-align: middle;\n",
       "    }\n",
       "\n",
       "    .dataframe tbody tr th {\n",
       "        vertical-align: top;\n",
       "    }\n",
       "\n",
       "    .dataframe thead th {\n",
       "        text-align: right;\n",
       "    }\n",
       "</style>\n",
       "<table border=\"1\" class=\"dataframe\">\n",
       "  <thead>\n",
       "    <tr style=\"text-align: right;\">\n",
       "      <th></th>\n",
       "      <th>년도</th>\n",
       "      <th>가수</th>\n",
       "      <th>제목</th>\n",
       "      <th>장르</th>\n",
       "    </tr>\n",
       "  </thead>\n",
       "  <tbody>\n",
       "    <tr>\n",
       "      <th>0</th>\n",
       "      <td>19920000</td>\n",
       "      <td>잼</td>\n",
       "      <td>난 멈추지 않는다</td>\n",
       "      <td>댄스</td>\n",
       "    </tr>\n",
       "    <tr>\n",
       "      <th>1</th>\n",
       "      <td>19920000</td>\n",
       "      <td>잼</td>\n",
       "      <td>우리 모두 사랑하자</td>\n",
       "      <td>댄스</td>\n",
       "    </tr>\n",
       "    <tr>\n",
       "      <th>2</th>\n",
       "      <td>19920000</td>\n",
       "      <td>잼</td>\n",
       "      <td>이유</td>\n",
       "      <td>발라드</td>\n",
       "    </tr>\n",
       "    <tr>\n",
       "      <th>3</th>\n",
       "      <td>19920000</td>\n",
       "      <td>잼</td>\n",
       "      <td>18번가의 비밀</td>\n",
       "      <td>댄스</td>\n",
       "    </tr>\n",
       "    <tr>\n",
       "      <th>4</th>\n",
       "      <td>19920000</td>\n",
       "      <td>잼</td>\n",
       "      <td>요즘 친구들</td>\n",
       "      <td>댄스</td>\n",
       "    </tr>\n",
       "    <tr>\n",
       "      <th>...</th>\n",
       "      <td>...</td>\n",
       "      <td>...</td>\n",
       "      <td>...</td>\n",
       "      <td>...</td>\n",
       "    </tr>\n",
       "    <tr>\n",
       "      <th>5696</th>\n",
       "      <td>20200924</td>\n",
       "      <td>업텐션 (UP10TION)</td>\n",
       "      <td>니가 보여 (Waiting For You)</td>\n",
       "      <td>R&amp;B/Soul</td>\n",
       "    </tr>\n",
       "    <tr>\n",
       "      <th>5697</th>\n",
       "      <td>20200924</td>\n",
       "      <td>업텐션 (UP10TION)</td>\n",
       "      <td>빈집 (텅) (Empty House)</td>\n",
       "      <td>R&amp;B/Soul</td>\n",
       "    </tr>\n",
       "    <tr>\n",
       "      <th>5698</th>\n",
       "      <td>20200926</td>\n",
       "      <td>엔플라잉 (N.Flying)</td>\n",
       "      <td>From You</td>\n",
       "      <td>록/메탈, 국내드라마</td>\n",
       "    </tr>\n",
       "    <tr>\n",
       "      <th>5699</th>\n",
       "      <td>20201002</td>\n",
       "      <td>BLACKPINK</td>\n",
       "      <td>Lovesick Girls</td>\n",
       "      <td>댄스</td>\n",
       "    </tr>\n",
       "    <tr>\n",
       "      <th>5700</th>\n",
       "      <td>20201010</td>\n",
       "      <td>환불원정대</td>\n",
       "      <td>DON'T TOUCH ME</td>\n",
       "      <td>댄스</td>\n",
       "    </tr>\n",
       "  </tbody>\n",
       "</table>\n",
       "<p>5701 rows × 4 columns</p>\n",
       "</div>"
      ],
      "text/plain": [
       "            년도               가수                       제목           장르\n",
       "0     19920000                잼                난 멈추지 않는다           댄스\n",
       "1     19920000                잼               우리 모두 사랑하자           댄스\n",
       "2     19920000                잼                       이유          발라드\n",
       "3     19920000                잼                 18번가의 비밀           댄스\n",
       "4     19920000                잼                   요즘 친구들           댄스\n",
       "...        ...              ...                      ...          ...\n",
       "5696  20200924   업텐션 (UP10TION)  니가 보여 (Waiting For You)     R&B/Soul\n",
       "5697  20200924   업텐션 (UP10TION)     빈집 (텅) (Empty House)     R&B/Soul\n",
       "5698  20200926  엔플라잉 (N.Flying)                 From You  록/메탈, 국내드라마\n",
       "5699  20201002        BLACKPINK           Lovesick Girls           댄스\n",
       "5700  20201010            환불원정대           DON'T TOUCH ME           댄스\n",
       "\n",
       "[5701 rows x 4 columns]"
      ]
     },
     "execution_count": 84,
     "metadata": {},
     "output_type": "execute_result"
    }
   ],
   "source": [
    "df"
   ]
  },
  {
   "cell_type": "markdown",
   "metadata": {},
   "source": [
    "# 3. Preprocess Data\n",
    "## UI 적용을 위한 추가 전처리 \n",
    "### 1. 년도별 분리\n",
    "\n",
    "\n"
   ]
  },
  {
   "cell_type": "code",
   "execution_count": 89,
   "metadata": {},
   "outputs": [],
   "source": [
    "artist_1990s = []\n",
    "title_1990s = []\n",
    "genre_1990s = []\n",
    "\n",
    "artist_2000s = []\n",
    "title_2000s = []\n",
    "genre_2000s = []\n",
    "\n",
    "artist_2010s = []\n",
    "title_2010s = []\n",
    "genre_2010s = []"
   ]
  },
  {
   "cell_type": "code",
   "execution_count": 90,
   "metadata": {},
   "outputs": [
    {
     "data": {
      "text/plain": [
       "5701"
      ]
     },
     "execution_count": 90,
     "metadata": {},
     "output_type": "execute_result"
    }
   ],
   "source": [
    "len(df)"
   ]
  },
  {
   "cell_type": "code",
   "execution_count": 91,
   "metadata": {},
   "outputs": [],
   "source": [
    "for i in range(len(df)):\n",
    "    if df['년도'][i] < 20000000 :\n",
    "        #print(df['년도'][i])\n",
    "        artist_1990s.append(df['가수'][i])\n",
    "        title_1990s.append(df['제목'][i])\n",
    "        genre_1990s.append(df['장르'][i])\n",
    "    elif df['년도'][i] < 20100000 :\n",
    "        artist_2000s.append(df['가수'][i])\n",
    "        title_2000s.append(df['제목'][i])\n",
    "        genre_2000s.append(df['장르'][i])\n",
    "    else:\n",
    "        artist_2010s.append(df['가수'][i])\n",
    "        title_2010s.append(df['제목'][i])\n",
    "        genre_2010s.append(df['장르'][i])"
   ]
  },
  {
   "cell_type": "code",
   "execution_count": 92,
   "metadata": {},
   "outputs": [],
   "source": [
    "list_1990s = [artist_1990s, title_1990s, genre_1990s]\n",
    "list_2000s = [artist_2000s, title_2000s, genre_2000s]\n",
    "list_2010s = [artist_2010s, title_2010s, genre_2010s]\n",
    "column_names = ['artist', 'title', 'genre']\n",
    "\n",
    "test_1990 = pd.DataFrame(list_1990s)\n",
    "test_2000 = pd.DataFrame(list_2000s)\n",
    "test_2010 = pd.DataFrame(list_2010s)"
   ]
  },
  {
   "cell_type": "code",
   "execution_count": 93,
   "metadata": {},
   "outputs": [],
   "source": [
    "test_1990 = test_1990.T\n",
    "test_2000 = test_2000.T\n",
    "test_2010 = test_2010.T\n",
    "\n",
    "test_1990.columns = column_names\n",
    "test_2000.columns = column_names\n",
    "test_2010.columns = column_names"
   ]
  },
  {
   "cell_type": "code",
   "execution_count": 94,
   "metadata": {},
   "outputs": [
    {
     "data": {
      "text/html": [
       "<div>\n",
       "<style scoped>\n",
       "    .dataframe tbody tr th:only-of-type {\n",
       "        vertical-align: middle;\n",
       "    }\n",
       "\n",
       "    .dataframe tbody tr th {\n",
       "        vertical-align: top;\n",
       "    }\n",
       "\n",
       "    .dataframe thead th {\n",
       "        text-align: right;\n",
       "    }\n",
       "</style>\n",
       "<table border=\"1\" class=\"dataframe\">\n",
       "  <thead>\n",
       "    <tr style=\"text-align: right;\">\n",
       "      <th></th>\n",
       "      <th>artist</th>\n",
       "      <th>title</th>\n",
       "      <th>genre</th>\n",
       "    </tr>\n",
       "  </thead>\n",
       "  <tbody>\n",
       "    <tr>\n",
       "      <th>0</th>\n",
       "      <td>현아</td>\n",
       "      <td>Change</td>\n",
       "      <td>댄스</td>\n",
       "    </tr>\n",
       "    <tr>\n",
       "      <th>1</th>\n",
       "      <td>포미닛</td>\n",
       "      <td>Dreams Come True</td>\n",
       "      <td>댄스</td>\n",
       "    </tr>\n",
       "    <tr>\n",
       "      <th>2</th>\n",
       "      <td>지연</td>\n",
       "      <td>또르르</td>\n",
       "      <td>발라드</td>\n",
       "    </tr>\n",
       "    <tr>\n",
       "      <th>3</th>\n",
       "      <td>씨야, 다비치, 티아라</td>\n",
       "      <td>원더우먼</td>\n",
       "      <td>댄스</td>\n",
       "    </tr>\n",
       "    <tr>\n",
       "      <th>4</th>\n",
       "      <td>제국의아이들</td>\n",
       "      <td>Mazeltov</td>\n",
       "      <td>댄스</td>\n",
       "    </tr>\n",
       "    <tr>\n",
       "      <th>...</th>\n",
       "      <td>...</td>\n",
       "      <td>...</td>\n",
       "      <td>...</td>\n",
       "    </tr>\n",
       "    <tr>\n",
       "      <th>3433</th>\n",
       "      <td>업텐션 (UP10TION)</td>\n",
       "      <td>니가 보여 (Waiting For You)</td>\n",
       "      <td>R&amp;B/Soul</td>\n",
       "    </tr>\n",
       "    <tr>\n",
       "      <th>3434</th>\n",
       "      <td>업텐션 (UP10TION)</td>\n",
       "      <td>빈집 (텅) (Empty House)</td>\n",
       "      <td>R&amp;B/Soul</td>\n",
       "    </tr>\n",
       "    <tr>\n",
       "      <th>3435</th>\n",
       "      <td>엔플라잉 (N.Flying)</td>\n",
       "      <td>From You</td>\n",
       "      <td>록/메탈, 국내드라마</td>\n",
       "    </tr>\n",
       "    <tr>\n",
       "      <th>3436</th>\n",
       "      <td>BLACKPINK</td>\n",
       "      <td>Lovesick Girls</td>\n",
       "      <td>댄스</td>\n",
       "    </tr>\n",
       "    <tr>\n",
       "      <th>3437</th>\n",
       "      <td>환불원정대</td>\n",
       "      <td>DON'T TOUCH ME</td>\n",
       "      <td>댄스</td>\n",
       "    </tr>\n",
       "  </tbody>\n",
       "</table>\n",
       "<p>3438 rows × 3 columns</p>\n",
       "</div>"
      ],
      "text/plain": [
       "               artist                    title        genre\n",
       "0                  현아                   Change           댄스\n",
       "1                 포미닛         Dreams Come True           댄스\n",
       "2                  지연                      또르르          발라드\n",
       "3        씨야, 다비치, 티아라                     원더우먼           댄스\n",
       "4              제국의아이들                 Mazeltov           댄스\n",
       "...               ...                      ...          ...\n",
       "3433   업텐션 (UP10TION)  니가 보여 (Waiting For You)     R&B/Soul\n",
       "3434   업텐션 (UP10TION)     빈집 (텅) (Empty House)     R&B/Soul\n",
       "3435  엔플라잉 (N.Flying)                 From You  록/메탈, 국내드라마\n",
       "3436        BLACKPINK           Lovesick Girls           댄스\n",
       "3437            환불원정대           DON'T TOUCH ME           댄스\n",
       "\n",
       "[3438 rows x 3 columns]"
      ]
     },
     "execution_count": 94,
     "metadata": {},
     "output_type": "execute_result"
    }
   ],
   "source": [
    "test_2010"
   ]
  },
  {
   "cell_type": "markdown",
   "metadata": {},
   "source": [
    "### 2. 년도별 파일 생성"
   ]
  },
  {
   "cell_type": "code",
   "execution_count": 95,
   "metadata": {},
   "outputs": [],
   "source": [
    "test_1990.to_csv('1990s.tsv',index=False,header=None,sep='\\t')\n",
    "test_2000.to_csv('2000s.tsv',index=False,header=None,sep='\\t')\n",
    "test_2010.to_csv('2010s.tsv',index=False,header=None,sep='\\t')"
   ]
  },
  {
   "cell_type": "code",
   "execution_count": 96,
   "metadata": {},
   "outputs": [
    {
     "data": {
      "text/plain": [
       "Index(['잼', '난 멈추지 않는다', '댄스'], dtype='object')"
      ]
     },
     "execution_count": 96,
     "metadata": {},
     "output_type": "execute_result"
    }
   ],
   "source": [
    "df = pd.read_csv('1990s.tsv', sep ='\\t', encoding = 'utf-8')\n",
    "df.columns"
   ]
  },
  {
   "cell_type": "code",
   "execution_count": 68,
   "metadata": {},
   "outputs": [],
   "source": [
    "class SongData:\n",
    "    def __init__(self, artist, title, genre):\n",
    "        self.artist = artist\n",
    "        self.title = title\n",
    "        self.genre = genre"
   ]
  },
  {
   "cell_type": "code",
   "execution_count": 72,
   "metadata": {},
   "outputs": [],
   "source": [
    "song1 = SongData('BTS','fake love','pop')\n",
    "song2 = SongData('BTS','dinamite','pop')"
   ]
  },
  {
   "cell_type": "code",
   "execution_count": 78,
   "metadata": {},
   "outputs": [],
   "source": [
    "song_list = [SongData('BTS1','fake love','pop'), SongData('BTS','dinamite','pop')]"
   ]
  },
  {
   "cell_type": "code",
   "execution_count": 79,
   "metadata": {},
   "outputs": [
    {
     "data": {
      "text/plain": [
       "'BTS1'"
      ]
     },
     "execution_count": 79,
     "metadata": {},
     "output_type": "execute_result"
    }
   ],
   "source": [
    "song_list[0].artist"
   ]
  },
  {
   "cell_type": "code",
   "execution_count": null,
   "metadata": {},
   "outputs": [],
   "source": [
    "song_"
   ]
  }
 ],
 "metadata": {
  "kernelspec": {
   "display_name": "Python 3",
   "language": "python",
   "name": "python3"
  },
  "language_info": {
   "codemirror_mode": {
    "name": "ipython",
    "version": 3
   },
   "file_extension": ".py",
   "mimetype": "text/x-python",
   "name": "python",
   "nbconvert_exporter": "python",
   "pygments_lexer": "ipython3",
   "version": "3.7.6"
  }
 },
 "nbformat": 4,
 "nbformat_minor": 4
}
