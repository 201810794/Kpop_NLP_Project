{
 "cells": [
  {
   "cell_type": "markdown",
   "metadata": {},
   "source": [
    "# 1. Import"
   ]
  },
  {
   "cell_type": "code",
   "execution_count": 40,
   "metadata": {},
   "outputs": [],
   "source": [
    "import numpy as np\n",
    "import pandas as pd\n",
    "import matplotlib.pyplot as plt"
   ]
  },
  {
   "cell_type": "markdown",
   "metadata": {},
   "source": [
    "# 2. Load Data"
   ]
  },
  {
   "cell_type": "markdown",
   "metadata": {},
   "source": [
    "## 공통 전처리 과정을 끝낸 파일 로드"
   ]
  },
  {
   "cell_type": "code",
   "execution_count": 41,
   "metadata": {},
   "outputs": [],
   "source": [
    "# Read the data set from training file => pre_1992_2020.tsv\n",
    "df = pd.read_csv('./추가 전처리/1990_2020.tsv', sep ='\\t', encoding = 'utf-8')"
   ]
  },
  {
   "cell_type": "code",
   "execution_count": 31,
   "metadata": {},
   "outputs": [
    {
     "data": {
      "text/html": [
       "<div>\n",
       "<style scoped>\n",
       "    .dataframe tbody tr th:only-of-type {\n",
       "        vertical-align: middle;\n",
       "    }\n",
       "\n",
       "    .dataframe tbody tr th {\n",
       "        vertical-align: top;\n",
       "    }\n",
       "\n",
       "    .dataframe thead th {\n",
       "        text-align: right;\n",
       "    }\n",
       "</style>\n",
       "<table border=\"1\" class=\"dataframe\">\n",
       "  <thead>\n",
       "    <tr style=\"text-align: right;\">\n",
       "      <th></th>\n",
       "      <th>Unnamed: 0</th>\n",
       "      <th>년도</th>\n",
       "      <th>가수</th>\n",
       "      <th>제목</th>\n",
       "      <th>성별</th>\n",
       "      <th>장르</th>\n",
       "      <th>가사</th>\n",
       "    </tr>\n",
       "  </thead>\n",
       "  <tbody>\n",
       "    <tr>\n",
       "      <th>0</th>\n",
       "      <td>0</td>\n",
       "      <td>19920000</td>\n",
       "      <td>잼</td>\n",
       "      <td>난 멈추지 않는다</td>\n",
       "      <td>mixed</td>\n",
       "      <td>댄스</td>\n",
       "      <td>['이제', '모든걸', '다시', '시작해', '내겐', '아직도', '시간이',...</td>\n",
       "    </tr>\n",
       "    <tr>\n",
       "      <th>1</th>\n",
       "      <td>1</td>\n",
       "      <td>19920000</td>\n",
       "      <td>잼</td>\n",
       "      <td>우리 모두 사랑하자</td>\n",
       "      <td>mixed</td>\n",
       "      <td>댄스</td>\n",
       "      <td>['워', '우리', '모두', '사랑하자', '우리의', '젊은날을', '위하여'...</td>\n",
       "    </tr>\n",
       "  </tbody>\n",
       "</table>\n",
       "</div>"
      ],
      "text/plain": [
       "   Unnamed: 0        년도 가수          제목     성별  장르  \\\n",
       "0           0  19920000  잼   난 멈추지 않는다  mixed  댄스   \n",
       "1           1  19920000  잼  우리 모두 사랑하자  mixed  댄스   \n",
       "\n",
       "                                                  가사  \n",
       "0  ['이제', '모든걸', '다시', '시작해', '내겐', '아직도', '시간이',...  \n",
       "1  ['워', '우리', '모두', '사랑하자', '우리의', '젊은날을', '위하여'...  "
      ]
     },
     "execution_count": 31,
     "metadata": {},
     "output_type": "execute_result"
    }
   ],
   "source": [
    "# Check the loaded data \n",
    "df.head(2)"
   ]
  },
  {
   "cell_type": "code",
   "execution_count": 32,
   "metadata": {},
   "outputs": [
    {
     "data": {
      "text/plain": [
       "Index(['Unnamed: 0', '년도', '가수', '제목', '성별', '장르', '가사'], dtype='object')"
      ]
     },
     "execution_count": 32,
     "metadata": {},
     "output_type": "execute_result"
    }
   ],
   "source": [
    "df.columns"
   ]
  },
  {
   "cell_type": "code",
   "execution_count": 42,
   "metadata": {},
   "outputs": [],
   "source": [
    "df = df.drop(['Unnamed: 0','성별'],axis=1)"
   ]
  },
  {
   "cell_type": "markdown",
   "metadata": {},
   "source": [
    "# 3. Preprocess Data\n",
    "## UI 적용을 위한 추가 전처리 \n",
    "### 0. 가사 붙이기\n",
    "\n",
    "\n",
    "\n"
   ]
  },
  {
   "cell_type": "code",
   "execution_count": 43,
   "metadata": {},
   "outputs": [
    {
     "name": "stderr",
     "output_type": "stream",
     "text": [
      "/Users/mac/opt/anaconda3/lib/python3.7/site-packages/ipykernel_launcher.py:3: SettingWithCopyWarning: \n",
      "A value is trying to be set on a copy of a slice from a DataFrame\n",
      "\n",
      "See the caveats in the documentation: https://pandas.pydata.org/pandas-docs/stable/user_guide/indexing.html#returning-a-view-versus-a-copy\n",
      "  This is separate from the ipykernel package so we can avoid doing imports until\n",
      "/Users/mac/opt/anaconda3/lib/python3.7/site-packages/ipykernel_launcher.py:4: SettingWithCopyWarning: \n",
      "A value is trying to be set on a copy of a slice from a DataFrame\n",
      "\n",
      "See the caveats in the documentation: https://pandas.pydata.org/pandas-docs/stable/user_guide/indexing.html#returning-a-view-versus-a-copy\n",
      "  after removing the cwd from sys.path.\n",
      "/Users/mac/opt/anaconda3/lib/python3.7/site-packages/ipykernel_launcher.py:5: SettingWithCopyWarning: \n",
      "A value is trying to be set on a copy of a slice from a DataFrame\n",
      "\n",
      "See the caveats in the documentation: https://pandas.pydata.org/pandas-docs/stable/user_guide/indexing.html#returning-a-view-versus-a-copy\n",
      "  \"\"\"\n",
      "/Users/mac/opt/anaconda3/lib/python3.7/site-packages/ipykernel_launcher.py:6: SettingWithCopyWarning: \n",
      "A value is trying to be set on a copy of a slice from a DataFrame\n",
      "\n",
      "See the caveats in the documentation: https://pandas.pydata.org/pandas-docs/stable/user_guide/indexing.html#returning-a-view-versus-a-copy\n",
      "  \n"
     ]
    }
   ],
   "source": [
    "for i in range(len(df)):\n",
    "    #print(i)\n",
    "    df['가사'][i] = df['가사'][i].replace(\",\",\"\")\n",
    "    df['가사'][i] = df['가사'][i].replace(\"'\",\"\")\n",
    "    df['가사'][i] = df['가사'][i].replace(\"[\",\"\")\n",
    "    df['가사'][i] = df['가사'][i].replace(\"]\",\"\")\n",
    "    #print(df['가사'][i])"
   ]
  },
  {
   "cell_type": "code",
   "execution_count": 44,
   "metadata": {},
   "outputs": [
    {
     "data": {
      "text/html": [
       "<div>\n",
       "<style scoped>\n",
       "    .dataframe tbody tr th:only-of-type {\n",
       "        vertical-align: middle;\n",
       "    }\n",
       "\n",
       "    .dataframe tbody tr th {\n",
       "        vertical-align: top;\n",
       "    }\n",
       "\n",
       "    .dataframe thead th {\n",
       "        text-align: right;\n",
       "    }\n",
       "</style>\n",
       "<table border=\"1\" class=\"dataframe\">\n",
       "  <thead>\n",
       "    <tr style=\"text-align: right;\">\n",
       "      <th></th>\n",
       "      <th>년도</th>\n",
       "      <th>가수</th>\n",
       "      <th>제목</th>\n",
       "      <th>장르</th>\n",
       "      <th>가사</th>\n",
       "    </tr>\n",
       "  </thead>\n",
       "  <tbody>\n",
       "    <tr>\n",
       "      <th>0</th>\n",
       "      <td>19920000</td>\n",
       "      <td>잼</td>\n",
       "      <td>난 멈추지 않는다</td>\n",
       "      <td>댄스</td>\n",
       "      <td>이제 모든걸 다시 시작해 내겐 아직도 시간이 있어 때론 상처가 좌절로 남아 돌이킬수...</td>\n",
       "    </tr>\n",
       "    <tr>\n",
       "      <th>1</th>\n",
       "      <td>19920000</td>\n",
       "      <td>잼</td>\n",
       "      <td>우리 모두 사랑하자</td>\n",
       "      <td>댄스</td>\n",
       "      <td>워 우리 모두 사랑하자 우리의 젊은날을 위하여 우리 모두 춤을 추자 가벼운 인스텝 ...</td>\n",
       "    </tr>\n",
       "    <tr>\n",
       "      <th>2</th>\n",
       "      <td>19920000</td>\n",
       "      <td>잼</td>\n",
       "      <td>이유</td>\n",
       "      <td>발라드</td>\n",
       "      <td>어둠은 드리워지고 이제는 우리들만의 시간이 지친듯이 내 가슴속에 밀려와 나를 재우고...</td>\n",
       "    </tr>\n",
       "    <tr>\n",
       "      <th>3</th>\n",
       "      <td>19920000</td>\n",
       "      <td>잼</td>\n",
       "      <td>18번가의 비밀</td>\n",
       "      <td>댄스</td>\n",
       "      <td>끝없는 어둠 속을 천천히 걷고 있어 어디서 본 듯한 야릇한 느낌이야 거리는 비에 젖...</td>\n",
       "    </tr>\n",
       "    <tr>\n",
       "      <th>4</th>\n",
       "      <td>19920000</td>\n",
       "      <td>잼</td>\n",
       "      <td>요즘 친구들</td>\n",
       "      <td>댄스</td>\n",
       "      <td>요즘 친구들은 흥 정말 진정한 친구가 뭔지 잘 몰라 말로만 떠들고 자기들이 다만 그...</td>\n",
       "    </tr>\n",
       "    <tr>\n",
       "      <th>5</th>\n",
       "      <td>19920000</td>\n",
       "      <td>잼</td>\n",
       "      <td>싫증</td>\n",
       "      <td>댄스</td>\n",
       "      <td>처음엔 나도 모든게 따뜻하게 느껴지고 만날때 마다 새롭게 그대를 난 느껴왔지만 슈비...</td>\n",
       "    </tr>\n",
       "    <tr>\n",
       "      <th>6</th>\n",
       "      <td>19920323</td>\n",
       "      <td>서태지와 아이들</td>\n",
       "      <td>난 알아요</td>\n",
       "      <td>댄스</td>\n",
       "      <td>난 알아요 이밤이 흐르고 흐르면 누군가가 나를 떠나 버려야 한다는 그 사실을 그 이...</td>\n",
       "    </tr>\n",
       "    <tr>\n",
       "      <th>7</th>\n",
       "      <td>19920323</td>\n",
       "      <td>서태지와 아이들</td>\n",
       "      <td>이밤이 깊어가지만</td>\n",
       "      <td>발라드</td>\n",
       "      <td>옛 생각에 까페문을 열고 지난 추억을 기억하려 했지 부드러운 음악 소리 마져 내 마...</td>\n",
       "    </tr>\n",
       "    <tr>\n",
       "      <th>8</th>\n",
       "      <td>19920323</td>\n",
       "      <td>서태지와 아이들</td>\n",
       "      <td>너와 함께한 시간속에서</td>\n",
       "      <td>발라드</td>\n",
       "      <td>너와 함께한 시간속에서 너를 처음 만난 그때를 자세하게 말해 줄수는 없지만 무엇인가...</td>\n",
       "    </tr>\n",
       "    <tr>\n",
       "      <th>9</th>\n",
       "      <td>19921100</td>\n",
       "      <td>노이즈</td>\n",
       "      <td>너에게 원한건</td>\n",
       "      <td>댄스</td>\n",
       "      <td>오늘도 우린 함께 했지 흠 난 또 한 번 느꼈어 너도 날 사랑하고 있다는 걸 항상 ...</td>\n",
       "    </tr>\n",
       "  </tbody>\n",
       "</table>\n",
       "</div>"
      ],
      "text/plain": [
       "         년도        가수            제목   장르  \\\n",
       "0  19920000         잼     난 멈추지 않는다   댄스   \n",
       "1  19920000         잼    우리 모두 사랑하자   댄스   \n",
       "2  19920000         잼            이유  발라드   \n",
       "3  19920000         잼      18번가의 비밀   댄스   \n",
       "4  19920000         잼        요즘 친구들   댄스   \n",
       "5  19920000         잼            싫증   댄스   \n",
       "6  19920323  서태지와 아이들         난 알아요   댄스   \n",
       "7  19920323  서태지와 아이들     이밤이 깊어가지만  발라드   \n",
       "8  19920323  서태지와 아이들  너와 함께한 시간속에서  발라드   \n",
       "9  19921100       노이즈       너에게 원한건   댄스   \n",
       "\n",
       "                                                  가사  \n",
       "0  이제 모든걸 다시 시작해 내겐 아직도 시간이 있어 때론 상처가 좌절로 남아 돌이킬수...  \n",
       "1  워 우리 모두 사랑하자 우리의 젊은날을 위하여 우리 모두 춤을 추자 가벼운 인스텝 ...  \n",
       "2  어둠은 드리워지고 이제는 우리들만의 시간이 지친듯이 내 가슴속에 밀려와 나를 재우고...  \n",
       "3  끝없는 어둠 속을 천천히 걷고 있어 어디서 본 듯한 야릇한 느낌이야 거리는 비에 젖...  \n",
       "4  요즘 친구들은 흥 정말 진정한 친구가 뭔지 잘 몰라 말로만 떠들고 자기들이 다만 그...  \n",
       "5  처음엔 나도 모든게 따뜻하게 느껴지고 만날때 마다 새롭게 그대를 난 느껴왔지만 슈비...  \n",
       "6  난 알아요 이밤이 흐르고 흐르면 누군가가 나를 떠나 버려야 한다는 그 사실을 그 이...  \n",
       "7  옛 생각에 까페문을 열고 지난 추억을 기억하려 했지 부드러운 음악 소리 마져 내 마...  \n",
       "8  너와 함께한 시간속에서 너를 처음 만난 그때를 자세하게 말해 줄수는 없지만 무엇인가...  \n",
       "9  오늘도 우린 함께 했지 흠 난 또 한 번 느꼈어 너도 날 사랑하고 있다는 걸 항상 ...  "
      ]
     },
     "execution_count": 44,
     "metadata": {},
     "output_type": "execute_result"
    }
   ],
   "source": [
    "df.head(10)"
   ]
  },
  {
   "cell_type": "code",
   "execution_count": 48,
   "metadata": {},
   "outputs": [],
   "source": [
    "artist_1990s = []\n",
    "title_1990s = []\n",
    "release_1990s = []\n",
    "genre_1990s = []\n",
    "lyric_1990s = []\n",
    "\n",
    "artist_2000s = []\n",
    "title_2000s = []\n",
    "release_2000s = []\n",
    "genre_2000s = []\n",
    "lyric_2000s = []\n",
    "\n",
    "artist_2010s = []\n",
    "title_2010s = []\n",
    "release_2010s = []\n",
    "genre_2010s = []\n",
    "lyric_2010s = []"
   ]
  },
  {
   "cell_type": "code",
   "execution_count": 49,
   "metadata": {},
   "outputs": [
    {
     "data": {
      "text/plain": [
       "5701"
      ]
     },
     "execution_count": 49,
     "metadata": {},
     "output_type": "execute_result"
    }
   ],
   "source": [
    "len(df)"
   ]
  },
  {
   "cell_type": "code",
   "execution_count": 50,
   "metadata": {},
   "outputs": [],
   "source": [
    "for i in range(len(df)):\n",
    "    if df['년도'][i] < 20000000 :\n",
    "        #print(df['년도'][i])\n",
    "        artist_1990s.append(df['가수'][i])\n",
    "        title_1990s.append(df['제목'][i])\n",
    "        release_1990s.append(df['년도'][i])\n",
    "        genre_1990s.append(df['장르'][i])\n",
    "        lyric_1990s.append(df['가사'][i])\n",
    "    elif df['년도'][i] < 20100000 :\n",
    "        artist_2000s.append(df['가수'][i])\n",
    "        title_2000s.append(df['제목'][i])\n",
    "        release_2000s.append(df['년도'][i])\n",
    "        genre_2000s.append(df['장르'][i])\n",
    "        lyric_2000s.append(df['가사'][i])\n",
    "    else:\n",
    "        artist_2010s.append(df['가수'][i])\n",
    "        title_2010s.append(df['제목'][i])\n",
    "        release_2010s.append(df['년도'][i])\n",
    "        genre_2010s.append(df['장르'][i])\n",
    "        lyric_2010s.append(df['가사'][i])"
   ]
  },
  {
   "cell_type": "code",
   "execution_count": 51,
   "metadata": {},
   "outputs": [],
   "source": [
    "list_1990s = [release_1990s, artist_1990s, title_1990s, genre_1990s, lyric_1990s]\n",
    "list_2000s = [release_2000s, artist_2000s, title_2000s, genre_2000s, lyric_2000s]\n",
    "list_2010s = [release_2010s, artist_2010s, title_2010s, genre_2010s, lyric_2010s]\n",
    "column_names = ['release','artist', 'title', 'genre','lyric']\n",
    "\n",
    "test_1990 = pd.DataFrame(list_1990s)\n",
    "test_2000 = pd.DataFrame(list_2000s)\n",
    "test_2010 = pd.DataFrame(list_2010s)"
   ]
  },
  {
   "cell_type": "code",
   "execution_count": 52,
   "metadata": {},
   "outputs": [],
   "source": [
    "test_1990 = test_1990.T\n",
    "test_2000 = test_2000.T\n",
    "test_2010 = test_2010.T\n",
    "\n",
    "test_1990.columns = column_names\n",
    "test_2000.columns = column_names\n",
    "test_2010.columns = column_names"
   ]
  },
  {
   "cell_type": "code",
   "execution_count": 59,
   "metadata": {},
   "outputs": [
    {
     "data": {
      "text/html": [
       "<div>\n",
       "<style scoped>\n",
       "    .dataframe tbody tr th:only-of-type {\n",
       "        vertical-align: middle;\n",
       "    }\n",
       "\n",
       "    .dataframe tbody tr th {\n",
       "        vertical-align: top;\n",
       "    }\n",
       "\n",
       "    .dataframe thead th {\n",
       "        text-align: right;\n",
       "    }\n",
       "</style>\n",
       "<table border=\"1\" class=\"dataframe\">\n",
       "  <thead>\n",
       "    <tr style=\"text-align: right;\">\n",
       "      <th></th>\n",
       "      <th>release</th>\n",
       "      <th>artist</th>\n",
       "      <th>title</th>\n",
       "      <th>genre</th>\n",
       "      <th>lyric</th>\n",
       "    </tr>\n",
       "  </thead>\n",
       "  <tbody>\n",
       "    <tr>\n",
       "      <th>0</th>\n",
       "      <td>20100104</td>\n",
       "      <td>현아</td>\n",
       "      <td>Change</td>\n",
       "      <td>댄스</td>\n",
       "      <td>yeah this I \"m\" bring it bring it let let \"s\" ...</td>\n",
       "    </tr>\n",
       "    <tr>\n",
       "      <th>1</th>\n",
       "      <td>20100105</td>\n",
       "      <td>포미닛</td>\n",
       "      <td>Dreams Come True</td>\n",
       "      <td>댄스</td>\n",
       "      <td>hey boys and girls Dont give up baby you know ...</td>\n",
       "    </tr>\n",
       "    <tr>\n",
       "      <th>2</th>\n",
       "      <td>20100105</td>\n",
       "      <td>지연</td>\n",
       "      <td>또르르</td>\n",
       "      <td>발라드</td>\n",
       "      <td>또르르 눈물이 흘러간다 또르르 또르르르 소리없는 아픔을 이기지도 못한채 파르르 손끝...</td>\n",
       "    </tr>\n",
       "    <tr>\n",
       "      <th>3</th>\n",
       "      <td>20100107</td>\n",
       "      <td>씨야, 다비치, 티아라</td>\n",
       "      <td>원더우먼</td>\n",
       "      <td>댄스</td>\n",
       "      <td>여자들아 기죽지 마라 당당하게 외쳐라 남자들아 비켜라 여자들의 의리가 더 멋있잖아 ...</td>\n",
       "    </tr>\n",
       "    <tr>\n",
       "      <th>4</th>\n",
       "      <td>20100107</td>\n",
       "      <td>제국의아이들</td>\n",
       "      <td>Mazeltov</td>\n",
       "      <td>댄스</td>\n",
       "      <td>Aho yo It shut it down Love It shut it down Bl...</td>\n",
       "    </tr>\n",
       "    <tr>\n",
       "      <th>5</th>\n",
       "      <td>20100112</td>\n",
       "      <td>2PM</td>\n",
       "      <td>Tik Tok</td>\n",
       "      <td>댄스</td>\n",
       "      <td>Nobody knows 내가 매일 너를 이렇게 원하는 걸 무대 뒤에서 널 안을 때마...</td>\n",
       "    </tr>\n",
       "    <tr>\n",
       "      <th>6</th>\n",
       "      <td>20100112</td>\n",
       "      <td>카라</td>\n",
       "      <td>별을 따다줘</td>\n",
       "      <td>댄스</td>\n",
       "      <td>저 별을 따다 줘 네 맘을 보여 줘 너의 그 따뜻한 두 손길로 한없이 밝은 사랑 난...</td>\n",
       "    </tr>\n",
       "    <tr>\n",
       "      <th>7</th>\n",
       "      <td>20100114</td>\n",
       "      <td>씨엔블루</td>\n",
       "      <td>외톨이야</td>\n",
       "      <td>록/메탈</td>\n",
       "      <td>외톨이야 외톨이야 외톨이야 외톨이야 봐봐 나를 봐봐 똑바로 내 두 눈을 봐 거봐 이...</td>\n",
       "    </tr>\n",
       "    <tr>\n",
       "      <th>8</th>\n",
       "      <td>20100114</td>\n",
       "      <td>럼블피쉬</td>\n",
       "      <td>남잔 다 그래</td>\n",
       "      <td>발라드</td>\n",
       "      <td>아닌가봐요 아닌가봐요 내가 사랑한 사람이 아닌가봐요 그런가봐요 세상 모든 사람이 그...</td>\n",
       "    </tr>\n",
       "    <tr>\n",
       "      <th>9</th>\n",
       "      <td>20100118</td>\n",
       "      <td>포맨</td>\n",
       "      <td>못해 (Feat. 美)</td>\n",
       "      <td>발라드</td>\n",
       "      <td>이제는 밥을 먹어도 눈물없이는 삼키지 못해 억지로 먹고 먹어도 속이 늘 허전해 노랠...</td>\n",
       "    </tr>\n",
       "  </tbody>\n",
       "</table>\n",
       "</div>"
      ],
      "text/plain": [
       "    release        artist             title genre  \\\n",
       "0  20100104            현아            Change    댄스   \n",
       "1  20100105           포미닛  Dreams Come True    댄스   \n",
       "2  20100105            지연               또르르   발라드   \n",
       "3  20100107  씨야, 다비치, 티아라              원더우먼    댄스   \n",
       "4  20100107        제국의아이들          Mazeltov    댄스   \n",
       "5  20100112           2PM           Tik Tok    댄스   \n",
       "6  20100112            카라            별을 따다줘    댄스   \n",
       "7  20100114          씨엔블루              외톨이야  록/메탈   \n",
       "8  20100114          럼블피쉬           남잔 다 그래   발라드   \n",
       "9  20100118            포맨      못해 (Feat. 美)   발라드   \n",
       "\n",
       "                                               lyric  \n",
       "0  yeah this I \"m\" bring it bring it let let \"s\" ...  \n",
       "1  hey boys and girls Dont give up baby you know ...  \n",
       "2  또르르 눈물이 흘러간다 또르르 또르르르 소리없는 아픔을 이기지도 못한채 파르르 손끝...  \n",
       "3  여자들아 기죽지 마라 당당하게 외쳐라 남자들아 비켜라 여자들의 의리가 더 멋있잖아 ...  \n",
       "4  Aho yo It shut it down Love It shut it down Bl...  \n",
       "5  Nobody knows 내가 매일 너를 이렇게 원하는 걸 무대 뒤에서 널 안을 때마...  \n",
       "6  저 별을 따다 줘 네 맘을 보여 줘 너의 그 따뜻한 두 손길로 한없이 밝은 사랑 난...  \n",
       "7  외톨이야 외톨이야 외톨이야 외톨이야 봐봐 나를 봐봐 똑바로 내 두 눈을 봐 거봐 이...  \n",
       "8  아닌가봐요 아닌가봐요 내가 사랑한 사람이 아닌가봐요 그런가봐요 세상 모든 사람이 그...  \n",
       "9  이제는 밥을 먹어도 눈물없이는 삼키지 못해 억지로 먹고 먹어도 속이 늘 허전해 노랠...  "
      ]
     },
     "execution_count": 59,
     "metadata": {},
     "output_type": "execute_result"
    }
   ],
   "source": [
    "test_2010.head(10)"
   ]
  },
  {
   "cell_type": "markdown",
   "metadata": {},
   "source": [
    "### 2. 년도별 파일 생성"
   ]
  },
  {
   "cell_type": "code",
   "execution_count": 55,
   "metadata": {},
   "outputs": [],
   "source": [
    "test_1990.to_csv('./추가 전처리/1990s.tsv',index=False,header=None,sep='\\t')\n",
    "test_2000.to_csv('./추가 전처리/2000s.tsv',index=False,header=None,sep='\\t')\n",
    "test_2010.to_csv('./추가 전처리/2010s.tsv',index=False,header=None,sep='\\t')"
   ]
  },
  {
   "cell_type": "code",
   "execution_count": null,
   "metadata": {},
   "outputs": [],
   "source": []
  }
 ],
 "metadata": {
  "kernelspec": {
   "display_name": "Python 3",
   "language": "python",
   "name": "python3"
  },
  "language_info": {
   "codemirror_mode": {
    "name": "ipython",
    "version": 3
   },
   "file_extension": ".py",
   "mimetype": "text/x-python",
   "name": "python",
   "nbconvert_exporter": "python",
   "pygments_lexer": "ipython3",
   "version": "3.7.6"
  }
 },
 "nbformat": 4,
 "nbformat_minor": 4
}
