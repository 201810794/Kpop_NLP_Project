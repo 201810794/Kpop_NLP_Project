{
 "cells": [
  {
   "cell_type": "code",
   "execution_count": 13,
   "metadata": {},
   "outputs": [],
   "source": [
    "from selenium import webdriver\n",
    "options = webdriver.ChromeOptions()\n",
    "options.add_argument('--headless')\n",
    "options.add_argument('--no-sandbox')\n",
    "options.add_argument('--disable-dev-shm-usage')\n",
    "driver = webdriver.Chrome(r'C:\\Users\\Eunhoo\\Code\\NLP\\chromedriver.exe')"
   ]
  },
  {
   "cell_type": "code",
   "execution_count": 14,
   "metadata": {},
   "outputs": [],
   "source": [
    "singer=  ['룰라','쿨','터보','알이에프']\n",
    "singer_id =[]"
   ]
  },
  {
   "cell_type": "code",
   "execution_count": 15,
   "metadata": {},
   "outputs": [],
   "source": [
    "for i in singer:\n",
    "    driver.get(\"https://www.melon.com/index.htm\")   \n",
    "    search = driver.find_element_by_xpath('//*[@id=\"top_search\"]') #검색창 xpath\n",
    "    search.clear() #검색창 clear\n",
    "    search.send_keys(i+'\\n')  #검색창에 가수 입력후 엔터\n",
    "    \n",
    "    driver.find_element_by_xpath('//*[@id=\"conts\"]/div[3]/div/div[1]/div/a/strong').click() #검색한 아티스트 클릭\n",
    "    url = driver.current_url\n",
    "    id = url.replace('https://www.melon.com/artist/timeline.htm?artistId=', '') #url에 있는 가수 고유번호 저장\n",
    "    \n",
    "    singer_id.append(id)"
   ]
  },
  {
   "cell_type": "code",
   "execution_count": 16,
   "metadata": {},
   "outputs": [
    {
     "name": "stdout",
     "output_type": "stream",
     "text": [
      "['106610', '100004', '100059', '100015']\n"
     ]
    }
   ],
   "source": [
    "print(singer_id)"
   ]
  },
  {
   "cell_type": "code",
   "execution_count": 17,
   "metadata": {},
   "outputs": [],
   "source": [
    "title_ary=[]\n",
    "album_ary=[]\n",
    "date_ary=[]\n",
    "genre_ary=[]\n",
    "lyrics_ary=[]\n",
    "lyricist_ary=[]\n",
    "composer_ary=[]\n",
    "singer_ary=[]"
   ]
  },
  {
   "cell_type": "code",
   "execution_count": 18,
   "metadata": {},
   "outputs": [],
   "source": [
    "def search(id,n):   # 가수id를 받아 (제목,가수,가사,앨범,발매일,장르,작사,작곡)  n개 만큼탐색  \n",
    "    #id에 맞는 가수의 곡 페이지(인기순)으로 이동\n",
    "    driver.get('https://www.melon.com/artist/song.htm?artistId='+str(id)+'#params%5BlistType%5D=A&params%5BorderBy%5D=POPULAR_SONG_LIST&params%5BartistId%5D='+str(id)+'&po=pageObj&startIndex=1')\n",
    "    driver.implicitly_wait(1)\n",
    "    for i in range(1,n+1):\n",
    "\n",
    "        driver.execute_script('window.scrollTo(0,200)')\n",
    "        \n",
    "        # i번째 곡정보 클릭\n",
    "        driver.find_element_by_xpath('//*[@id=\"frm\"]/div/table/tbody/tr['+ str(i)+']/td[3]/div/div/a[1]').click()\n",
    "        \n",
    "        #제목 가수 가사 앨범 발매일 장르 작사 작곡 정보 리스트에 저장\n",
    "        title=driver.find_element_by_xpath('//*[@id=\"downloadfrm\"]/div/div/div[2]/div[1]/div[1]')\n",
    "        title_ary.append(title.text)\n",
    "    \n",
    "        singer=driver.find_element_by_xpath('//*[@id=\"downloadfrm\"]/div/div/div[2]/div[1]/div[2]/a/span[1]')\n",
    "        singer_ary.append(singer.text)\n",
    "    \n",
    "        album=driver.find_element_by_xpath('//*[@id=\"downloadfrm\"]/div/div/div[2]/div[2]/dl/dd[1]/a')\n",
    "        album_ary.append(album.text)\n",
    "    \n",
    "        date=driver.find_element_by_xpath('//*[@id=\"downloadfrm\"]/div/div/div[2]/div[2]/dl/dd[2]')\n",
    "        date_ary.append(date.text)\n",
    "    \n",
    "        genre=driver.find_element_by_xpath('//*[@id=\"downloadfrm\"]/div/div/div[2]/div[2]/dl/dd[3]')\n",
    "        genre_ary.append(genre.text)\n",
    "        \n",
    "        # 가사,작사,작곡이 없는경우가 있어 예외처리\n",
    "        try:\n",
    "            lyricist=driver.find_element_by_xpath('//*[@id=\"conts\"]/div[3]/ul/li[1]/div[2]/div[1]/a')\n",
    "            lyricist_ary.append(lyricist.text)\n",
    "        except:\n",
    "            lyricist_ary.append('NULL')\n",
    "        \n",
    "        try:\n",
    "            composer=driver.find_element_by_xpath('//*[@id=\"conts\"]/div[3]/ul/li[2]/div[2]/div[1]/a')\n",
    "            composer_ary.append(composer.text)\n",
    "        except:\n",
    "            composer_ary.append('NULL')\n",
    "        \n",
    "        try:\n",
    "            lyrics=driver.find_element_by_xpath('//*[@id=\"d_video_summary\"]')\n",
    "            lyrics_ary.append(lyrics.text.replace('\\n',' '))\n",
    "        except:\n",
    "            lyrics_ary.append('NULL')\n",
    "            \n",
    "        driver.back() #뒤로가기 ->다시 곡 목록으로 이동"
   ]
  },
  {
   "cell_type": "code",
   "execution_count": 19,
   "metadata": {},
   "outputs": [],
   "source": [
    "for i in singer_id:\n",
    "   search(i,10)"
   ]
  },
  {
   "cell_type": "code",
   "execution_count": 20,
   "metadata": {},
   "outputs": [],
   "source": [
    "import pandas as pd\n",
    "df=pd.DataFrame({\"년도\":date_ary,\"가수\":singer_ary,\"제목\":title_ary,\"앨범\":album_ary,\"장르\":genre_ary,\n",
    "             \"작사가\":composer_ary,\"작곡가\":lyricist_ary,\"가사\":lyrics_ary})"
   ]
  },
  {
   "cell_type": "code",
   "execution_count": 21,
   "metadata": {},
   "outputs": [
    {
     "name": "stdout",
     "output_type": "stream",
     "text": [
      "            년도        가수                  제목                            앨범  \\\n",
      "0   1997.04.01        룰라                3!4!             Roo`ra Best Album   \n",
      "1         1995        룰라            날개 잃은 천사                      날개 잃은 천사   \n",
      "2   1996.06.15        룰라                3!4!                 All System Go   \n",
      "3         1995        룰라          천상유애(天上有愛)   Reincarnation Of The Legend   \n",
      "4         1997        룰라                  연인                  The Final 5집   \n",
      "5         1995        룰라            프로와 아마츄어                      날개 잃은 천사   \n",
      "6   1997.04.01        룰라              비밀은 없어             Roo`ra Best Album   \n",
      "7         1995        룰라                 사랑법   Reincarnation Of The Legend   \n",
      "8      1999.02        룰라           기도 (Good)                    Six n‘ Six   \n",
      "9   2000.06.12        룰라          풍변기곡(風變旗曲)                    풍변기곡(風變旗曲)   \n",
      "10  2004.04.19  쿨 (COOL)                 아로하                     Cool Best   \n",
      "11  1995.10.01  쿨 (COOL)          슬퍼지려 하기 전에                 The [Ku:l] 2집   \n",
      "12  1997.07.01  쿨 (COOL)              해변의 여인                  Summer Story   \n",
      "13     1999.01  쿨 (COOL)                  애상                      Cool 4.5   \n",
      "14  1996.11.01  쿨 (COOL)                  운명         Destined For The Best   \n",
      "15  2005.07.15  쿨 (COOL)          이여름 Summer                       Forever   \n",
      "16  2001.12.06  쿨 (COOL)                 아로하                 First Whisper   \n",
      "17  2004.04.19  쿨 (COOL)                  애상                     Cool Best   \n",
      "18  2000.04.22  쿨 (COOL)         All For You                        Cool 5   \n",
      "19     2003.07  쿨 (COOL)    One Summer Drive                    Cool 8ight   \n",
      "20  1996.08.01        터보  Love Is... (3+3=0)  터보(Turbo) 2집 `New Sensation`   \n",
      "21  1996.08.01        터보          Twist King  터보(Turbo) 2집 `New Sensation`   \n",
      "22  1995.07.01        터보            나 어릴 적 꿈   터보 (Turbo) 1집 `280km Speed`   \n",
      "23  2001.06.20        터보                  회상                    터보 History   \n",
      "24  2005.12.05        터보  White Love (스키장에서)                    하얀 겨울 2005   \n",
      "25  1995.07.01        터보           검은 고양이 네로   터보 (Turbo) 1집 `280km Speed`   \n",
      "26  1996.08.01        터보           어느 째즈바...  터보(Turbo) 2집 `New Sensation`   \n",
      "27  2001.06.20        터보              어느 째즈바                    터보 History   \n",
      "28        1997        터보       회상 (December)    터보 (Turbo) 3집 `Born Again`   \n",
      "29        1997        터보  Good Bye Yesterday    터보 (Turbo) 3집 `Born Again`   \n",
      "30     1995.03      R.ef               이별 공식                   Rave Effect   \n",
      "31     1995.03      R.ef             고요속의 외침                   Rave Effect   \n",
      "32     1995.03      R.ef                  상심                   Rave Effect   \n",
      "33     1996.04      R.ef       찬란한 사랑 (상심II)             Back To The Black   \n",
      "34  1998.05.01      R.ef             귀머거리 하늘                       Forever   \n",
      "35        1997      R.ef              심연(深淵)      Free Ruff Eazy Flava III   \n",
      "36     1996.04      R.ef            마음속을 걸어가             Back To The Black   \n",
      "37     1996.04      R.ef                Jazz             Back To The Black   \n",
      "38        1999      R.ef              찬란한 사랑                      The Last   \n",
      "39  1998.05.01      R.ef  Never Ending Story                       Forever   \n",
      "\n",
      "     장르         작사가   작곡가                                                 가사  \n",
      "0    댄스         이현도   이현도  여기 숨쉬는 이 시간은 나를 어데로 데려갈까 많은 기쁨과 한숨들이 뒤섞인 이곳에서 ...  \n",
      "1    댄스         최준영   이건우  아 그럴거야 나를 아낄려고 굳이 내게 말 안하고 멀리 떠나갔던가 아 그럴거야 나를 ...  \n",
      "2    댄스         이현도   이현도  여기 숨쉬는 이 시간은 나를 어데로 데려갈까 많은 기쁨과 한숨들이 뒤섞인 이 곳에서...  \n",
      "3    댄스  The Season   이건우  저 끝에서 끝까지 목이 메이도록 말하고 말거야 무척 소중한걸 안다고 거리마다 외칠 ...  \n",
      "4    댄스         이상민   이상민  바보 바보 바보야 바보 바보 바보야 바보 바보 바보야 사랑 앞에서 오늘도 넌 튕겨 ...  \n",
      "5    댄스         최준영    룰라  나는 나는 모든걸 할수가 있어 너가 나를 사랑하게 할수도 있고 너를 감동 시킬수도 ...  \n",
      "6    댄스         박선만   박선만  우우 정말이야 이제 그대에게 비밀은 없어 우우 알고 있지 사랑한단 말은 안해도 처음...  \n",
      "7    댄스  The Season    룰라  하지만 사랑이 자리잡혀 간다면 진실한 사랑이 필요하기 시작한거야 갖기 위해서 해왔던...  \n",
      "8    댄스         최준영   이상민  Roo'Ra deeper lover live lover live 라라따리 라리라 라...  \n",
      "9    댄스         홍재선   이상민  위기도 너의 기도 너와 할 수 있었다는 세상에 사랑할 수밖에 없었던 그 때는 영원할...  \n",
      "10  발라드         위종수   김태훈  어두운 불빛 아래 촛불 하나 와인 잔에 담긴 약속 하나 항상 너의 곁에서 널 지켜줄...  \n",
      "11   댄스         최준영   최준영  나 가끔씩 그대 생각을 할 때마다 나 가끔 그대 생각을 할때마다 늘 가까운 듯 멀게...  \n",
      "12   댄스         윤일상   이승호  와우 여름이다 summertime i wanna let me sea the summ...  \n",
      "13   댄스         윤일상   이승호  알잖아 너를 이토록 사랑하며 기다린 나를 뭐가 그리 바쁜지 너무 보기 힘들어 넌 도...  \n",
      "14   댄스         윤일상   이승호  어느날 우연히 그사람 본 순간 다리에 힘이 풀려 주저 앉고 말았지 그토록 애가 타게...  \n",
      "15   댄스         윤일상   이승호  너무나 소중했던 사랑이 뜨거운 태양아래서 까맣게 나를 태우고 떠나가 버렸어   마지...  \n",
      "16  발라드         위종수   김태훈  어두운 불빛 아래 촛불 하나 와인 잔에 담긴 약속 하나 항상 너의 곁에서 널 지켜줄...  \n",
      "17   댄스         윤일상   이승호  알잖아 너를 이토록 사랑하며 기다린 나를 뭐가 그리 바쁜지 너무 보기 힘들어 넌 도...  \n",
      "18  발라드         김한범   정진환  All For You 벌써 며칠째 전화도 없는 너 얼마후면 나의 생일이란 걸 아는지...  \n",
      "19  발라드         박해운   한경혜  네가 떠난 뒤에 닫았던 내방 창을 오늘 열었지 어질러진 슬픔 치워 내 보내 려 두 ...  \n",
      "20   댄스         윤일상   이승호  우린 6년 전에 만났지 널 사랑하게 됐어 내 마음을 숨긴 채 널 따라 다녔었지 내 ...  \n",
      "21   댄스         주영훈   이승호  Let's twist Come on a people on your big Come ...  \n",
      "22   댄스         주영훈   이승호  워 워워워 워워워 워우워 워워워 워워워  너를 나만에 여자로 만들겠다는 꿈이 생긴거...  \n",
      "23  발라드         윤일상   이승호  겨울 오면은 우리 둘이서 항상 왔었던 바닷가 시린 바람과 하얀 파도는 예전 그대로였...  \n",
      "24  발라드        NULL  NULL  하늘을 봐 하얗게 눈이 내려와 하얀 함박눈이 나비가 날아다니듯 하얀 눈꽃송이 세상이...  \n",
      "25   댄스        외국 곡   홍현걸  아찌야 너랑 나랑 결혼할래 응 네살박이 그 꼬마가 내게 청혼했어 정말로 나는 너무너...  \n",
      "26  발라드         안정훈   한진우  지난 시간들이 다시는 오지 않을 것을 알지만 아직도 너의 기억 그대로 인데 아픈 상...  \n",
      "27  발라드         안정훈   한진우  지난 시간들이 다시는 오지 않을 것을 알지만 아직도 너의 기억 그대로 인데 아픈 상...  \n",
      "28  발라드         윤일상   이승호  겨울 오면은 우리 둘이서 항상 왔었던 바닷가 시린 바람과 하얀 파도는 예전 그대로였...  \n",
      "29   댄스         주영훈   이승호  나나나 나 나나나나나나 나나나 나 나나나나나나 나나나 나 나나나나나나 나 나 나나 ...  \n",
      "30   댄스         홍재선   윤성희  이별 장면에선 항상 비가 오지 열대 우림 기후 속에 살고 있나 긴밤 외로움과 가을 ...  \n",
      "31   댄스         홍재선   홍재선  더 이상 나에게 너만을 강요하지는 말아줘 서둘러 가야할 이별에 눈물은 장애가 될뿐야...  \n",
      "32   댄스         홍재선   홍재선  사랑했던 나의 마음속에 작은꿈 하나만을 남겨두고 너무쉽게 나를 떠나버린 너를 이제는...  \n",
      "33   댄스         홍재선   홍재선  너에게 아무런 도움이 되지 못했어 내가 내 불행마저 감당할 수 없는데 그냥 너를 좋...  \n",
      "34   댄스         윤일상   이승호  그토록 사랑한 그녀가 떠난 후 하늘은 그녈 내게 보여주곤 해 너무나 예쁜 그 모습 ...  \n",
      "35   댄스         홍재선  3534  너의 기억 깨져버려 너의 기억 지나가버려 나의 기억 기억에서 말이야 지워져 버리라는...  \n",
      "36   댄스         홍재선   홍재선  넌 지금 어딨는지 난 중요치 않아 누구와 함께 있는 것이 중요해 나 아닌 다른 사람...  \n",
      "37  발라드         홍재선   홍재선  둘이서 함께 꾸는 꿈 음악도 표현 못했던 그 누구도 알 수 없는 상처 담배를 피워보...  \n",
      "38   댄스         홍재선   홍재선  너에게 아무런 도움이 되지 못했어 내가 내 불행마저 감당할 수 없는데 그냥 너를 좋...  \n",
      "39   댄스         윤일상   이승호  여기저기 하루종일 너를 찾아 헤매어 봐도 니 모습 간데없고 추억들만 나를 반겼어 이...  \n"
     ]
    }
   ],
   "source": [
    "print(df)"
   ]
  },
  {
   "cell_type": "code",
   "execution_count": 22,
   "metadata": {},
   "outputs": [],
   "source": [
    "df.to_csv('94_95_k-pop.tsv',index=False,header=None,sep='\\t')"
   ]
  },
  {
   "cell_type": "code",
   "execution_count": null,
   "metadata": {},
   "outputs": [],
   "source": []
  }
 ],
 "metadata": {
  "kernelspec": {
   "display_name": "Python 3",
   "language": "python",
   "name": "python3"
  },
  "language_info": {
   "codemirror_mode": {
    "name": "ipython",
    "version": 3
   },
   "file_extension": ".py",
   "mimetype": "text/x-python",
   "name": "python",
   "nbconvert_exporter": "python",
   "pygments_lexer": "ipython3",
   "version": "3.7.6"
  }
 },
 "nbformat": 4,
 "nbformat_minor": 2
}
